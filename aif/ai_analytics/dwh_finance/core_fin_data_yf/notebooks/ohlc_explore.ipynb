{
 "cells": [
  {
   "metadata": {
    "ExecuteTime": {
     "end_time": "2024-06-12T10:51:52.220102Z",
     "start_time": "2024-06-12T10:51:52.200111Z"
    }
   },
   "cell_type": "code",
   "source": "\"\"\"A simple example notebook on how to load and explore data from the dwh_finance.\"\"\"",
   "id": "614c1cdc0844b527",
   "outputs": [
    {
     "data": {
      "text/plain": [
       "'A simple example notebook on how to load and explore data from the dwh.'"
      ]
     },
     "execution_count": 2,
     "metadata": {},
     "output_type": "execute_result"
    }
   ],
   "execution_count": 2
  },
  {
   "metadata": {},
   "cell_type": "markdown",
   "source": "# Exploring Financial Data",
   "id": "aefea2d4a86ac341"
  },
  {
   "cell_type": "code",
   "id": "ff082a2ba4eca5ba",
   "metadata": {
    "collapsed": false,
    "ExecuteTime": {
     "end_time": "2024-06-12T10:51:52.265843Z",
     "start_time": "2024-06-12T10:51:52.254686Z"
    }
   },
   "source": [
    "import seaborn as sns\n",
    "from dotenv import load_dotenv\n",
    "\n",
    "from IPython.display import display\n",
    "\n",
    "from aif.common.aif.src.data_interfaces.db_interface import DBInterface\n",
    "from aif.common.aif.src.initialization import initialize_aif"
   ],
   "outputs": [],
   "execution_count": 3
  },
  {
   "cell_type": "code",
   "id": "40f3ce9cf98e057c",
   "metadata": {
    "collapsed": false,
    "ExecuteTime": {
     "end_time": "2024-06-12T10:51:52.361650Z",
     "start_time": "2024-06-12T10:51:52.331316Z"
    }
   },
   "source": [
    "CONFIG_FILES = [\n",
    "    \"aif/common/aif/resources/config/base.yaml\",\n",
    "    \"aif/ai_analytics/resources/config/{ENV}/dwh.yaml\",\n",
    "]"
   ],
   "outputs": [],
   "execution_count": 4
  },
  {
   "cell_type": "code",
   "id": "ea421018e3118972",
   "metadata": {
    "collapsed": false,
    "ExecuteTime": {
     "end_time": "2024-06-12T10:51:52.471683Z",
     "start_time": "2024-06-12T10:51:52.438454Z"
    }
   },
   "source": [
    "load_dotenv();"
   ],
   "outputs": [],
   "execution_count": 5
  },
  {
   "cell_type": "code",
   "id": "6d8f1daeab22ee3d",
   "metadata": {
    "collapsed": false,
    "ExecuteTime": {
     "end_time": "2024-06-12T10:51:52.529285Z",
     "start_time": "2024-06-12T10:51:52.498695Z"
    }
   },
   "source": [
    "initialize_aif(config_files=CONFIG_FILES, show_licence_notice=False)"
   ],
   "outputs": [
    {
     "name": "stdout",
     "output_type": "stream",
     "text": [
      "\u001B[38;20m2024-06-12 11:51:52 | INFO     | aif.common.aif.src.initialization             | Loaded settings for environment dev:\n",
      "{\n",
      "    \"environment\": \"dev\",\n",
      "    \"path\": \"/home/christian/Workspace/AIF-Pro/\",\n",
      "    \"version\": \"1.3.1\",\n",
      "    \"common\": {\n",
      "        \"default_db\": \"dwh\"\n",
      "    },\n",
      "    \"logging\": {\n",
      "        \"log_aif_console_level\": \"debug\",\n",
      "        \"log_aif_file_level\": \"debug\",\n",
      "        \"log_aif_filename\": \"/log/logging_aif.log\",\n",
      "        \"log_root_file_level\": \"info\",\n",
      "        \"log_root_filename\": \"/log/logging_root.log\"\n",
      "    },\n",
      "    \"dwh\": {\n",
      "        \"host\": \"127.0.0.1\",\n",
      "        \"port\": 5432,\n",
      "        \"user\": \"aif\",\n",
      "        \"password\": \"--SECRET--\",\n",
      "        \"db_name\": \"dwh\"\n",
      "    }\n",
      "}\u001B[0m\n"
     ]
    }
   ],
   "execution_count": 6
  },
  {
   "cell_type": "markdown",
   "id": "4145c2192f571c11",
   "metadata": {
    "collapsed": false
   },
   "source": [
    "# Query Data from DWH"
   ]
  },
  {
   "cell_type": "code",
   "id": "2abb617dd7aed1ea",
   "metadata": {
    "collapsed": false,
    "ExecuteTime": {
     "end_time": "2024-06-12T10:51:53.141494Z",
     "start_time": "2024-06-12T10:51:52.559635Z"
    }
   },
   "source": [
    "with DBInterface(db_cfg=\"DWH_FINANCE\") as db:\n",
    "    ohlc_df = db.execute_query(sql_stmt=\"SELECT * FROM core_fin_data_yf.ohlc_daily\").result_df"
   ],
   "outputs": [
    {
     "name": "stdout",
     "output_type": "stream",
     "text": [
      "\u001B[32m2024-06-12 11:51:52 | DEBUG    | aif.common.aif.src.db_interface               | Connecting to default database: dwh\u001B[0m\n",
      "\u001B[32m2024-06-12 11:51:52 | DEBUG    | aif.common.aif.src.db_interface               | Connection to database on 127.0.0.1:5432 established...\u001B[0m\n",
      "\u001B[38;20m2024-06-12 11:51:52 | INFO     | aif.common.aif.src.db_interface               | Executing Statement:\n",
      "SELECT * FROM core_fin_data_yf.ohlc_daily\u001B[0m\n",
      "\u001B[32m2024-06-12 11:51:53 | DEBUG    | aif.common.aif.src.db_interface               | Result shape of dataframe: (10962, 7)\u001B[0m\n",
      "\u001B[32m2024-06-12 11:51:53 | DEBUG    | aif.common.aif.src.db_interface               | Connection to database was closed.\u001B[0m\n"
     ]
    }
   ],
   "execution_count": 7
  },
  {
   "cell_type": "markdown",
   "id": "eb534f0a8eccf976",
   "metadata": {
    "collapsed": false
   },
   "source": [
    "# Inspect Data"
   ]
  },
  {
   "cell_type": "code",
   "id": "fbdc6a08cb1f769f",
   "metadata": {
    "collapsed": false,
    "ExecuteTime": {
     "end_time": "2024-06-12T10:51:53.178956Z",
     "start_time": "2024-06-12T10:51:53.145694Z"
    }
   },
   "source": "display(ohlc_df)  # pylint: disable=undefined-variable",
   "outputs": [
    {
     "data": {
      "text/plain": [
       "      asset_id  price_date        open        high         low       close  \\\n",
       "0         AAPL  1980-12-12    0.128348    0.128906    0.128348    0.128348   \n",
       "1         AAPL  1980-12-15    0.122210    0.122210    0.121652    0.121652   \n",
       "2         AAPL  1980-12-16    0.113281    0.113281    0.112723    0.112723   \n",
       "3         AAPL  1980-12-17    0.115513    0.116071    0.115513    0.115513   \n",
       "4         AAPL  1980-12-18    0.118862    0.119420    0.118862    0.118862   \n",
       "...        ...         ...         ...         ...         ...         ...   \n",
       "10957     AAPL  2024-05-31  191.440002  192.570007  189.910004  192.250000   \n",
       "10958     AAPL  2024-06-03  192.899994  194.990005  192.520004  194.029999   \n",
       "10959     AAPL  2024-06-04  194.639999  195.320007  193.029999  194.350006   \n",
       "10960     AAPL  2024-06-05  195.399994  196.899994  194.869995  195.869995   \n",
       "10961     AAPL  2024-06-06  195.690002  196.500000  194.169998  194.479996   \n",
       "\n",
       "            volume  \n",
       "0      469033600.0  \n",
       "1      175884800.0  \n",
       "2      105728000.0  \n",
       "3       86441600.0  \n",
       "4       73449600.0  \n",
       "...            ...  \n",
       "10957   75158300.0  \n",
       "10958   50080500.0  \n",
       "10959   47471400.0  \n",
       "10960   54156800.0  \n",
       "10961   41139800.0  \n",
       "\n",
       "[10962 rows x 7 columns]"
      ],
      "text/html": [
       "<div>\n",
       "<style scoped>\n",
       "    .dataframe tbody tr th:only-of-type {\n",
       "        vertical-align: middle;\n",
       "    }\n",
       "\n",
       "    .dataframe tbody tr th {\n",
       "        vertical-align: top;\n",
       "    }\n",
       "\n",
       "    .dataframe thead th {\n",
       "        text-align: right;\n",
       "    }\n",
       "</style>\n",
       "<table border=\"1\" class=\"dataframe\">\n",
       "  <thead>\n",
       "    <tr style=\"text-align: right;\">\n",
       "      <th></th>\n",
       "      <th>asset_id</th>\n",
       "      <th>price_date</th>\n",
       "      <th>open</th>\n",
       "      <th>high</th>\n",
       "      <th>low</th>\n",
       "      <th>close</th>\n",
       "      <th>volume</th>\n",
       "    </tr>\n",
       "  </thead>\n",
       "  <tbody>\n",
       "    <tr>\n",
       "      <th>0</th>\n",
       "      <td>AAPL</td>\n",
       "      <td>1980-12-12</td>\n",
       "      <td>0.128348</td>\n",
       "      <td>0.128906</td>\n",
       "      <td>0.128348</td>\n",
       "      <td>0.128348</td>\n",
       "      <td>469033600.0</td>\n",
       "    </tr>\n",
       "    <tr>\n",
       "      <th>1</th>\n",
       "      <td>AAPL</td>\n",
       "      <td>1980-12-15</td>\n",
       "      <td>0.122210</td>\n",
       "      <td>0.122210</td>\n",
       "      <td>0.121652</td>\n",
       "      <td>0.121652</td>\n",
       "      <td>175884800.0</td>\n",
       "    </tr>\n",
       "    <tr>\n",
       "      <th>2</th>\n",
       "      <td>AAPL</td>\n",
       "      <td>1980-12-16</td>\n",
       "      <td>0.113281</td>\n",
       "      <td>0.113281</td>\n",
       "      <td>0.112723</td>\n",
       "      <td>0.112723</td>\n",
       "      <td>105728000.0</td>\n",
       "    </tr>\n",
       "    <tr>\n",
       "      <th>3</th>\n",
       "      <td>AAPL</td>\n",
       "      <td>1980-12-17</td>\n",
       "      <td>0.115513</td>\n",
       "      <td>0.116071</td>\n",
       "      <td>0.115513</td>\n",
       "      <td>0.115513</td>\n",
       "      <td>86441600.0</td>\n",
       "    </tr>\n",
       "    <tr>\n",
       "      <th>4</th>\n",
       "      <td>AAPL</td>\n",
       "      <td>1980-12-18</td>\n",
       "      <td>0.118862</td>\n",
       "      <td>0.119420</td>\n",
       "      <td>0.118862</td>\n",
       "      <td>0.118862</td>\n",
       "      <td>73449600.0</td>\n",
       "    </tr>\n",
       "    <tr>\n",
       "      <th>...</th>\n",
       "      <td>...</td>\n",
       "      <td>...</td>\n",
       "      <td>...</td>\n",
       "      <td>...</td>\n",
       "      <td>...</td>\n",
       "      <td>...</td>\n",
       "      <td>...</td>\n",
       "    </tr>\n",
       "    <tr>\n",
       "      <th>10957</th>\n",
       "      <td>AAPL</td>\n",
       "      <td>2024-05-31</td>\n",
       "      <td>191.440002</td>\n",
       "      <td>192.570007</td>\n",
       "      <td>189.910004</td>\n",
       "      <td>192.250000</td>\n",
       "      <td>75158300.0</td>\n",
       "    </tr>\n",
       "    <tr>\n",
       "      <th>10958</th>\n",
       "      <td>AAPL</td>\n",
       "      <td>2024-06-03</td>\n",
       "      <td>192.899994</td>\n",
       "      <td>194.990005</td>\n",
       "      <td>192.520004</td>\n",
       "      <td>194.029999</td>\n",
       "      <td>50080500.0</td>\n",
       "    </tr>\n",
       "    <tr>\n",
       "      <th>10959</th>\n",
       "      <td>AAPL</td>\n",
       "      <td>2024-06-04</td>\n",
       "      <td>194.639999</td>\n",
       "      <td>195.320007</td>\n",
       "      <td>193.029999</td>\n",
       "      <td>194.350006</td>\n",
       "      <td>47471400.0</td>\n",
       "    </tr>\n",
       "    <tr>\n",
       "      <th>10960</th>\n",
       "      <td>AAPL</td>\n",
       "      <td>2024-06-05</td>\n",
       "      <td>195.399994</td>\n",
       "      <td>196.899994</td>\n",
       "      <td>194.869995</td>\n",
       "      <td>195.869995</td>\n",
       "      <td>54156800.0</td>\n",
       "    </tr>\n",
       "    <tr>\n",
       "      <th>10961</th>\n",
       "      <td>AAPL</td>\n",
       "      <td>2024-06-06</td>\n",
       "      <td>195.690002</td>\n",
       "      <td>196.500000</td>\n",
       "      <td>194.169998</td>\n",
       "      <td>194.479996</td>\n",
       "      <td>41139800.0</td>\n",
       "    </tr>\n",
       "  </tbody>\n",
       "</table>\n",
       "<p>10962 rows × 7 columns</p>\n",
       "</div>"
      ]
     },
     "metadata": {},
     "output_type": "display_data"
    }
   ],
   "execution_count": 8
  },
  {
   "cell_type": "markdown",
   "id": "61aada45811dbc03",
   "metadata": {
    "collapsed": false
   },
   "source": [
    "# Visualize and Explore Data"
   ]
  },
  {
   "metadata": {
    "ExecuteTime": {
     "end_time": "2024-06-12T10:55:02.490492Z",
     "start_time": "2024-06-12T10:55:02.483736Z"
    }
   },
   "cell_type": "code",
   "source": [
    "ohlc_df[\"hl_diff\"] = ohlc_df[\"high\"] - ohlc_df[\"low\"]"
   ],
   "id": "7190f8d87323716c",
   "outputs": [],
   "execution_count": 10
  },
  {
   "metadata": {
    "ExecuteTime": {
     "end_time": "2024-06-12T10:56:03.769697Z",
     "start_time": "2024-06-12T10:56:03.759240Z"
    }
   },
   "cell_type": "code",
   "source": [
    "ohlc_df[\"hl_diff_y\"] = ohlc_df[\"hl_diff\"].shift(1)"
   ],
   "id": "7276d794b82b33b3",
   "outputs": [],
   "execution_count": 11
  },
  {
   "cell_type": "code",
   "id": "4ced315ae9297f4e",
   "metadata": {
    "collapsed": false,
    "ExecuteTime": {
     "end_time": "2024-06-12T10:58:16.965555Z",
     "start_time": "2024-06-12T10:58:16.239295Z"
    }
   },
   "source": "sns.scatterplot(x=\"hl_diff_y\", y=\"hl_diff\", data=ohlc_df)",
   "outputs": [
    {
     "data": {
      "text/plain": [
       "<Axes: xlabel='hl_diff_y', ylabel='hl_diff'>"
      ]
     },
     "execution_count": 13,
     "metadata": {},
     "output_type": "execute_result"
    },
    {
     "data": {
      "text/plain": [
       "<Figure size 640x480 with 1 Axes>"
      ],
      "image/png": "[encoded data removed]"
     },
     "metadata": {},
     "output_type": "display_data"
    }
   ],
   "execution_count": 13
  }
 ],
 "metadata": {
  "kernelspec": {
   "display_name": "Python 3 (ipykernel)",
   "language": "python",
   "name": "python3"
  },
  "language_info": {
   "codemirror_mode": {
    "name": "ipython",
    "version": 3
   },
   "file_extension": ".py",
   "mimetype": "text/x-python",
   "name": "python",
   "nbconvert_exporter": "python",
   "pygments_lexer": "ipython3",
   "version": "3.11.6"
  }
 },
 "nbformat": 4,
 "nbformat_minor": 5
}
